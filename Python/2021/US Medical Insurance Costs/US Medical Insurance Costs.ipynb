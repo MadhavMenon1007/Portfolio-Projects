{
 "cells": [
  {
   "cell_type": "markdown",
   "id": "designed-seafood",
   "metadata": {},
   "source": [
    "# U.S Medical Insurance Costs"
   ]
  },
  {
   "cell_type": "markdown",
   "id": "asian-notification",
   "metadata": {},
   "source": [
    "\n",
    "Hello guys! My name is Madhav Menon and I am 15 years old. This is my attempt at my first Portfolio Project, \"US Medical Insurance Costs\" from Codecademy as part of the Data Science career path. This is the question I want to analyse:\n",
    "\n",
    "<u>**Question:**</u>\n",
    "\n",
    "*How many people in the given dataset are smokers and how does their insurance charge differ from non-smokers*\n",
    "\n",
    "<u>**Goals**</u>\n",
    "\n",
    "- To figure out the number of smokers in our given dataset.\n",
    "- To calculate their insurance charges and compare this to non-smokers to see how smoking can affect insurance costs.\n",
    "\n",
    "<u>**Hypothesis**</u>\n",
    "\n",
    "I predict that there will be a drastic increase in insurance costs for smokers as opposed to non smokers, this would enable us to create some sort of promotional content such as flyers, advertisements etc. which will allow us to highlight the negative impacts of smoking on people's wallets and health. Cigarettes tend to be a demerit good but for some also tend to be an inelastic good so the economic analysis might be covered here as well. In conclusion, I hope that this information will enable us to reduce the number of smokers.\n",
    "\n",
    "<u> **Dataset**</u>\n",
    "\n",
    "I will need a dataset that contains mostly two columns, whether they are a smoker and their insurance costs. Luckily Codecademy has given us a dataset from Kaggle which gives more information such as their age, bmi, and sex.\n",
    "\n",
    "<u>**Direction of analysis**</u>\n",
    "\n",
    "We will have to analyse the insurance costs of smokers and compare this to the insurance ocsts of non smokers. This will give a clear idea as to how smoking can affect the insurance costs of individuals. This may allow us to create awareness on the negative impacts of smoking. We can also conduct smaller studies such as the average age of smokers within the dataset, this may give us a rough idea of when people start smoking so necessary government action can be taken. We could also find out how many smokers have kids, this could lead to a whole different study of how parents' smoking can affect kids."
   ]
  },
  {
   "cell_type": "markdown",
   "id": "indoor-heather",
   "metadata": {},
   "source": [
    "## Prologue"
   ]
  },
  {
   "cell_type": "markdown",
   "id": "happy-acrobat",
   "metadata": {},
   "source": [
    "I start by importing Pandas because Pandas are essential for data analysis. "
   ]
  },
  {
   "cell_type": "code",
   "execution_count": 3,
   "id": "convertible-shell",
   "metadata": {},
   "outputs": [
    {
     "ename": "NameError",
     "evalue": "name 'pd' is not defined",
     "output_type": "error",
     "traceback": [
      "\u001b[1;31m---------------------------------------------------------------------------\u001b[0m",
      "\u001b[1;31mNameError\u001b[0m                                 Traceback (most recent call last)",
      "\u001b[1;32m<ipython-input-3-785d2f3325dc>\u001b[0m in \u001b[0;36m<module>\u001b[1;34m\u001b[0m\n\u001b[0;32m      1\u001b[0m \u001b[1;32mimport\u001b[0m \u001b[0mpandas\u001b[0m\u001b[1;33m\u001b[0m\u001b[1;33m\u001b[0m\u001b[0m\n\u001b[0;32m      2\u001b[0m \u001b[1;33m\u001b[0m\u001b[0m\n\u001b[1;32m----> 3\u001b[1;33m \u001b[0mdf\u001b[0m\u001b[1;33m=\u001b[0m\u001b[0mpd\u001b[0m\u001b[1;33m.\u001b[0m\u001b[0mread_csv\u001b[0m\u001b[1;33m(\u001b[0m\u001b[1;34m\"insurance.csv\"\u001b[0m\u001b[1;33m)\u001b[0m\u001b[1;33m\u001b[0m\u001b[1;33m\u001b[0m\u001b[0m\n\u001b[0m",
      "\u001b[1;31mNameError\u001b[0m: name 'pd' is not defined"
     ]
    }
   ],
   "source": [
    "import pandas\n",
    "\n",
    "df=pd.read_csv(\"insurance.csv\")"
   ]
  },
  {
   "cell_type": "markdown",
   "id": "secure-guidance",
   "metadata": {},
   "source": [
    "I then convert all the columns into lists that we can work with. I also used a dictionary for convenience as it's easier to read information like this using a dictionary."
   ]
  },
  {
   "cell_type": "code",
   "execution_count": null,
   "id": "rotary-brazil",
   "metadata": {},
   "outputs": [],
   "source": []
  }
 ],
 "metadata": {
  "kernelspec": {
   "display_name": "Python 3",
   "language": "python",
   "name": "python3"
  },
  "language_info": {
   "codemirror_mode": {
    "name": "ipython",
    "version": 3
   },
   "file_extension": ".py",
   "mimetype": "text/x-python",
   "name": "python",
   "nbconvert_exporter": "python",
   "pygments_lexer": "ipython3",
   "version": "3.9.0"
  }
 },
 "nbformat": 4,
 "nbformat_minor": 5
}
