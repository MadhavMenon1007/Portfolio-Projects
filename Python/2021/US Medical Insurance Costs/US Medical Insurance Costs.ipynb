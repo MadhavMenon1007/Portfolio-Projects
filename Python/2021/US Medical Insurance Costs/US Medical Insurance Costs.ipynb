{
 "cells": [
  {
   "cell_type": "markdown",
   "id": "packed-orleans",
   "metadata": {},
   "source": [
    "# U.S Medical Insurance Costs"
   ]
  },
  {
   "cell_type": "markdown",
   "id": "common-workplace",
   "metadata": {},
   "source": [
    "\n",
    "Hello guys! My name is Madhav Menon and I am 15 years old. This is my attempt at my first Portfolio Project, \"US Medical Insurance Costs\" from Codecademy as part of the Data Science career path. This is the question I want to analyse:\n",
    "\n",
    "<u>**Question:**</u>\n",
    "\n",
    "*How many people in the given dataset are smokers and how does their insurance charge differ from non-smokers*\n",
    "\n",
    "<u>**Goals**</u>\n",
    "\n",
    "- To figure out the number of smokers in our given dataset.\n",
    "- To calculate their insurance charges and compare this to non-smokers to see how smoking can affect insurance costs.\n",
    "\n",
    "<u>**Hypothesis**</u>\n",
    "\n",
    "I predict that there will be a drastic increase in insurance costs for smokers as opposed to non smokers, this would enable us to create some sort of promotional content such as flyers, advertisements etc. which will allow us to highlight the negative impacts of smoking on people's wallets and health. Cigarettes tend to be a demerit good but for some also tend to be an inelastic good so the economic analysis might be covered here as well. In conclusion, I hope that this information will enable us to reduce the number of smokers.\n",
    "\n",
    "<u> **Dataset**</u>\n",
    "\n",
    "I will need a dataset that contains mostly two columns, whether they are a smoker and their insurance costs. Luckily Codecademy has given us a dataset from Kaggle which gives more information such as their age, bmi, and sex.\n",
    "\n",
    "<u>**Direction of analysis**</u>\n",
    "\n",
    "We will have to analyse the insurance costs of smokers and compare this to the insurance ocsts of non smokers. This will give a clear idea as to how smoking can affect the insurance costs of individuals. This may allow us to create awareness on the negative impacts of smoking. We can also conduct smaller studies such as the average age of smokers within the dataset, this may give us a rough idea of when people start smoking so necessary government action can be taken. We could also find out how many smokers have kids, this could lead to a whole different study of how parents' smoking can affect kids."
   ]
  },
  {
   "cell_type": "markdown",
   "id": "narrative-pontiac",
   "metadata": {},
   "source": [
    "## Prologue"
   ]
  },
  {
   "cell_type": "markdown",
   "id": "median-brief",
   "metadata": {},
   "source": [
    "I start by importing Pandas and opening the .csv file"
   ]
  },
  {
   "cell_type": "code",
   "execution_count": 1,
   "id": "north-belize",
   "metadata": {},
   "outputs": [
    {
     "data": {
      "text/html": [
       "<div>\n",
       "<style scoped>\n",
       "    .dataframe tbody tr th:only-of-type {\n",
       "        vertical-align: middle;\n",
       "    }\n",
       "\n",
       "    .dataframe tbody tr th {\n",
       "        vertical-align: top;\n",
       "    }\n",
       "\n",
       "    .dataframe thead th {\n",
       "        text-align: right;\n",
       "    }\n",
       "</style>\n",
       "<table border=\"1\" class=\"dataframe\">\n",
       "  <thead>\n",
       "    <tr style=\"text-align: right;\">\n",
       "      <th></th>\n",
       "      <th>age</th>\n",
       "      <th>sex</th>\n",
       "      <th>bmi</th>\n",
       "      <th>children</th>\n",
       "      <th>smoker</th>\n",
       "      <th>region</th>\n",
       "      <th>charges</th>\n",
       "    </tr>\n",
       "  </thead>\n",
       "  <tbody>\n",
       "    <tr>\n",
       "      <th>0</th>\n",
       "      <td>19</td>\n",
       "      <td>female</td>\n",
       "      <td>27.900</td>\n",
       "      <td>0</td>\n",
       "      <td>yes</td>\n",
       "      <td>southwest</td>\n",
       "      <td>16884.92400</td>\n",
       "    </tr>\n",
       "    <tr>\n",
       "      <th>1</th>\n",
       "      <td>18</td>\n",
       "      <td>male</td>\n",
       "      <td>33.770</td>\n",
       "      <td>1</td>\n",
       "      <td>no</td>\n",
       "      <td>southeast</td>\n",
       "      <td>1725.55230</td>\n",
       "    </tr>\n",
       "    <tr>\n",
       "      <th>2</th>\n",
       "      <td>28</td>\n",
       "      <td>male</td>\n",
       "      <td>33.000</td>\n",
       "      <td>3</td>\n",
       "      <td>no</td>\n",
       "      <td>southeast</td>\n",
       "      <td>4449.46200</td>\n",
       "    </tr>\n",
       "    <tr>\n",
       "      <th>3</th>\n",
       "      <td>33</td>\n",
       "      <td>male</td>\n",
       "      <td>22.705</td>\n",
       "      <td>0</td>\n",
       "      <td>no</td>\n",
       "      <td>northwest</td>\n",
       "      <td>21984.47061</td>\n",
       "    </tr>\n",
       "    <tr>\n",
       "      <th>4</th>\n",
       "      <td>32</td>\n",
       "      <td>male</td>\n",
       "      <td>28.880</td>\n",
       "      <td>0</td>\n",
       "      <td>no</td>\n",
       "      <td>northwest</td>\n",
       "      <td>3866.85520</td>\n",
       "    </tr>\n",
       "  </tbody>\n",
       "</table>\n",
       "</div>"
      ],
      "text/plain": [
       "   age     sex     bmi  children smoker     region      charges\n",
       "0   19  female  27.900         0    yes  southwest  16884.92400\n",
       "1   18    male  33.770         1     no  southeast   1725.55230\n",
       "2   28    male  33.000         3     no  southeast   4449.46200\n",
       "3   33    male  22.705         0     no  northwest  21984.47061\n",
       "4   32    male  28.880         0     no  northwest   3866.85520"
      ]
     },
     "execution_count": 1,
     "metadata": {},
     "output_type": "execute_result"
    }
   ],
   "source": [
    "import pandas as pd\n",
    "df=pd.read_csv(\"insurance.csv\")\n",
    "df.head(5)"
   ]
  },
  {
   "cell_type": "markdown",
   "id": "ignored-record",
   "metadata": {},
   "source": [
    "I then convert all the columns into lists that we can work with.  I also used a dictionary for convenience as it's easier to read information like this using a dictionary."
   ]
  },
  {
   "cell_type": "code",
   "execution_count": 2,
   "id": "recreational-ready",
   "metadata": {},
   "outputs": [],
   "source": [
    "ages=list(df.age)\n",
    "sexes=list(df.sex)\n",
    "bmis=list(df.bmi)\n",
    "num_children=list(df.children)\n",
    "is_smoker=list(df.smoker)\n",
    "regions=list(df.region)\n",
    "charges=list(df.charges)\n",
    "\n",
    "dict_of_data={}\n",
    "for i in range(len(ages)):\n",
    "    dict_of_data[f\"Person {i}\"]={\n",
    "                  \"Age\":ages[i],\n",
    "                  \"Sex\":sexes[i],\n",
    "                  \"BMI\":bmis[i],\n",
    "                  \"Number of children\":num_children[i],\n",
    "                  \"Smoker\": is_smoker[i],\n",
    "                  \"Region\":regions[i],\n",
    "                  \"Insurance Cost\":charges[i]}"
   ]
  },
  {
   "cell_type": "markdown",
   "id": "raising-helen",
   "metadata": {},
   "source": [
    "### Figure out the number of smokers in our dataset"
   ]
  },
  {
   "cell_type": "code",
   "execution_count": 3,
   "id": "israeli-touch",
   "metadata": {},
   "outputs": [
    {
     "name": "stdout",
     "output_type": "stream",
     "text": [
      "1338\n"
     ]
    }
   ],
   "source": [
    "length_of_dataset=len(ages)\n",
    "print(length_of_dataset)"
   ]
  },
  {
   "cell_type": "markdown",
   "id": "fourth-plastic",
   "metadata": {},
   "source": [
    "We have a dataset of 1338 entries. I used the ages list just because it was the first list we created. In fact, we could have used any of the above lists as they are all unique entries and thus they would all have the same length. I now decided to count the number of smokers in our dataset"
   ]
  },
  {
   "cell_type": "code",
   "execution_count": 4,
   "id": "second-chess",
   "metadata": {},
   "outputs": [
    {
     "name": "stdout",
     "output_type": "stream",
     "text": [
      "274\n",
      "1064\n"
     ]
    }
   ],
   "source": [
    "def count_smokers(is_smoker):\n",
    "    count=0\n",
    "    for smoker in is_smoker:\n",
    "        if smoker==\"yes\":\n",
    "            count+=1\n",
    "        else:\n",
    "            continue\n",
    "    return count\n",
    "\n",
    "number_of_smokers = count_smokers(is_smoker)\n",
    "number_of_non_smokers=length_of_dataset-number_of_smokers\n",
    "print(number_of_smokers)\n",
    "print(number_of_non_smokers)"
   ]
  },
  {
   "cell_type": "markdown",
   "id": "radical-vehicle",
   "metadata": {},
   "source": [
    "In the above function, I initalised a variable called \"count\". It would increment by one for every \"yes\" entry in the is_smoker list. I then called the function and assigned it to the variable \"number_of_smokers\". Thus if we printed the variable, it would call the function each time. As you can see, 274 people in the dataset are smokers. I now want to calculate what percentage this is of the dataset"
   ]
  },
  {
   "cell_type": "code",
   "execution_count": 5,
   "id": "abroad-hawaii",
   "metadata": {},
   "outputs": [
    {
     "name": "stdout",
     "output_type": "stream",
     "text": [
      "20.47832585949178\n"
     ]
    }
   ],
   "source": [
    "percentage_of_smokers = number_of_smokers/len(is_smoker)*100\n",
    "print(percentage_of_smokers)"
   ]
  },
  {
   "cell_type": "markdown",
   "id": "neither-ballot",
   "metadata": {},
   "source": [
    "So far the calculations show that about 20% of the dataset smokes."
   ]
  },
  {
   "cell_type": "markdown",
   "id": "eleven-shipping",
   "metadata": {},
   "source": [
    "### Average age of smokers"
   ]
  },
  {
   "cell_type": "markdown",
   "id": "tender-chapter",
   "metadata": {},
   "source": [
    "I now want to calculate the average age of the smokers in the dataset, this is a bit hard and this is where the master dictionary and list we created come in handy:"
   ]
  },
  {
   "cell_type": "code",
   "execution_count": 7,
   "id": "active-roller",
   "metadata": {},
   "outputs": [
    {
     "name": "stdout",
     "output_type": "stream",
     "text": [
      "38.51459854014598\n"
     ]
    }
   ],
   "source": [
    "total_age = 0\n",
    "for i in range(len(is_smoker)):\n",
    "        if dict_of_data[f\"Person {i}\"][\"Smoker\"]==\"yes\":\n",
    "            total_age+=dict_of_data[f\"Person {i}\"][\"Age\"]\n",
    "\n",
    "average_age = total_age/number_of_smokers\n",
    "print(average_age)"
   ]
  },
  {
   "cell_type": "markdown",
   "id": "cleared-discipline",
   "metadata": {},
   "source": [
    "As you can see, the average age of smokers is about 39 years old. This is actually good news because the legal smoking age in the US is 21 and so there might be very few people in this dataset that are underaged smokers as the mean is closer to 40 and not a smaller number."
   ]
  },
  {
   "cell_type": "markdown",
   "id": "fatal-petroleum",
   "metadata": {},
   "source": [
    "### Number of underaged smokers"
   ]
  },
  {
   "cell_type": "code",
   "execution_count": 8,
   "id": "reduced-performer",
   "metadata": {},
   "outputs": [
    {
     "name": "stdout",
     "output_type": "stream",
     "text": [
      "39\n"
     ]
    }
   ],
   "source": [
    "number_of_underaged_smokers = 0\n",
    "for i in range(len(is_smoker)):\n",
    "    if dict_of_data[f\"Person {i}\"][\"Smoker\"]==\"yes\":\n",
    "        if dict_of_data[f\"Person {i}\"][\"Age\"]<21:\n",
    "            number_of_underaged_smokers+=1\n",
    "print(number_of_underaged_smokers)"
   ]
  },
  {
   "cell_type": "markdown",
   "id": "protecting-employment",
   "metadata": {},
   "source": [
    "The code above shows that 39 of the 274 smokers are underaged. This is not good at all and calls for some serious government intervention. This is actually some good data because now we have numbers of substance to work with"
   ]
  },
  {
   "cell_type": "code",
   "execution_count": 9,
   "id": "female-headline",
   "metadata": {},
   "outputs": [
    {
     "name": "stdout",
     "output_type": "stream",
     "text": [
      "14.233576642335766\n",
      "2.914798206278027\n"
     ]
    }
   ],
   "source": [
    "percentage_of_underaged_smokers=number_of_underaged_smokers/number_of_smokers * 100\n",
    "print(percentage_of_underaged_smokers)\n",
    "\n",
    "percentage_of_underaged_smokers_dataset=number_of_underaged_smokers/len(is_smoker) * 100\n",
    "print(percentage_of_underaged_smokers_dataset)"
   ]
  },
  {
   "cell_type": "markdown",
   "id": "listed-ethics",
   "metadata": {},
   "source": [
    "We know that around 14% of smokers are underaged and 3% of the entire dataset are underaged smokers as well. This is because this should not even be 0.1% but unfortunately this isn't an ideal world. There should be some sort of advertising campaign from the government to prevent underaged smoking. They could also implement a better ID-tracking system of some sort so as to prevent fake IDs working successfuly."
   ]
  },
  {
   "cell_type": "markdown",
   "id": "incorrect-trinity",
   "metadata": {},
   "source": [
    "### Comparing insurance costs of smokers to non smokers"
   ]
  },
  {
   "cell_type": "markdown",
   "id": "circular-image",
   "metadata": {},
   "source": [
    "Now that some preliminary results have been calculated, let's get into the actual question, \"How does the insurance cost of a smoker compare to the insurance cost of a non smoker?\"\n",
    "\n",
    "There are two methods to do this with the Python I know as of now:\n",
    "\n",
    "- Add up the insurance cost for all the smokers and non smokers and find the difference\n",
    "- Find the average insurance cost for all the smokers and non smokers and find the difference\n",
    "\n",
    "There are some clear flaws with both the methods I have mentioned. These values take into account other factors such as BMI, number of children and their age which can also impact their insurance costs and thus this isn't a reliable test. However let's see how it goes"
   ]
  },
  {
   "cell_type": "markdown",
   "id": "formal-forum",
   "metadata": {},
   "source": [
    "#### Method 1"
   ]
  },
  {
   "cell_type": "code",
   "execution_count": 10,
   "id": "armed-university",
   "metadata": {},
   "outputs": [
    {
     "name": "stdout",
     "output_type": "stream",
     "text": [
      "8974061.468918996\n",
      "8781763.52184\n",
      "-192297.9470789954\n"
     ]
    }
   ],
   "source": [
    "def insurance_cost_of_non_s (dict_of_data):\n",
    "    charge = 0\n",
    "    for i in range(len(charges)):\n",
    "        if dict_of_data[f\"Person {i}\"][\"Smoker\"]==\"no\":\n",
    "            charge+=dict_of_data[f\"Person {i}\"][\"Insurance Cost\"]\n",
    "    return charge\n",
    "\n",
    "total_insurance_cost_of_non_smokers = insurance_cost_of_non_s(dict_of_data)\n",
    "print(total_insurance_cost_of_non_smokers)\n",
    "\n",
    "\n",
    "def insurance_cost_of_s(dict_of_data):\n",
    "    charge = 0\n",
    "    for i in range(len(charges)):\n",
    "        if dict_of_data[f\"Person {i}\"][\"Smoker\"]==\"yes\":\n",
    "            charge+=dict_of_data[f\"Person {i}\"][\"Insurance Cost\"]\n",
    "    return charge\n",
    "\n",
    "total_insurance_cost_of_smokers = insurance_cost_of_s(dict_of_data)\n",
    "print(total_insurance_cost_of_smokers)\n",
    "    \n",
    "difference_in_insurance_cost=total_insurance_cost_of_smokers - total_insurance_cost_of_non_smokers\n",
    "print(difference_in_insurance_cost)"
   ]
  },
  {
   "cell_type": "markdown",
   "id": "considerable-secondary",
   "metadata": {},
   "source": [
    "#### Method 2"
   ]
  },
  {
   "cell_type": "code",
   "execution_count": 11,
   "id": "signed-success",
   "metadata": {},
   "outputs": [
    {
     "name": "stdout",
     "output_type": "stream",
     "text": [
      "8434.268297856199\n",
      "32050.23183153285\n"
     ]
    }
   ],
   "source": [
    "def average_cost_of_non_s(dict_of_data):\n",
    "    charge = 0\n",
    "    for i in range(len(charges)):\n",
    "        if dict_of_data[f\"Person {i}\"][\"Smoker\"]==\"no\":\n",
    "            charge+=dict_of_data[f\"Person {i}\"][\"Insurance Cost\"]\n",
    "    return charge/(number_of_non_smokers)\n",
    "            \n",
    "average_insurance_cost_of_non_smokers=average_cost_of_non_s(dict_of_data)\n",
    "\n",
    "def average_cost_of_s(dict_of_data):\n",
    "    charge = 0\n",
    "    for i in range(len(charges)):\n",
    "        if dict_of_data[f\"Person {i}\"][\"Smoker\"]==\"yes\":\n",
    "            charge+=dict_of_data[f\"Person {i}\"][\"Insurance Cost\"]\n",
    "    return charge/(number_of_smokers)\n",
    "\n",
    "average_insurance_cost_of_smokers = average_cost_of_s(dict_of_data)\n",
    "\n",
    "print(average_insurance_cost_of_non_smokers)\n",
    "print(average_insurance_cost_of_smokers)"
   ]
  },
  {
   "cell_type": "markdown",
   "id": "exciting-fight",
   "metadata": {},
   "source": [
    "### Explanation"
   ]
  },
  {
   "cell_type": "markdown",
   "id": "processed-burst",
   "metadata": {},
   "source": [
    "Clearly these two methods don't work for a variety of reasons. The first method didn't work because there are a lesser number of smokers as opposed to non smokers. Therefore there would be a higher frequency to add for non smokers which resulted in a higher total insurance cost. My explanation for method 2 will be more coherent. As there are more non smokers, there is a higher number you have to divide your charges by. This results in a small number as opposed to smokers who only have to divide by 274."
   ]
  },
  {
   "cell_type": "markdown",
   "id": "aggressive-clothing",
   "metadata": {},
   "source": [
    "### Final Try"
   ]
  },
  {
   "cell_type": "markdown",
   "id": "presidential-pitch",
   "metadata": {},
   "source": [
    "I then decided to do one final thing. I take the insurance cost of one person by adding some stipulations. Their age is 18, they have a BMI of less than 27 and have no children."
   ]
  },
  {
   "cell_type": "code",
   "execution_count": 13,
   "id": "hired-edition",
   "metadata": {},
   "outputs": [
    {
     "name": "stdout",
     "output_type": "stream",
     "text": [
      "31905.678019\n",
      "43549.512\n",
      "11643.833981000003\n"
     ]
    }
   ],
   "source": [
    "def new_insurance_cost_non_s(dict_of_data):\n",
    "    charge=0\n",
    "    for i in range(len(ages)):\n",
    "        if dict_of_data[f\"Person {i}\"][\"Smoker\"]==\"no\" and dict_of_data[f\"Person {i}\"][\"Age\"]==18 and dict_of_data[f\"Person {i}\"][\"BMI\"]<30 and dict_of_data[f\"Person {i}\"][\"Number of children\"]==0:\n",
    "            charge+=dict_of_data[f\"Person {i}\"][\"Insurance Cost\"]\n",
    "    return charge\n",
    "\n",
    "insurance_cost_of_non_smoker_with_restrictions = new_insurance_cost_non_s(dict_of_data)\n",
    "\n",
    "\n",
    "def new_insurance_cost_non_s(dict_of_data):\n",
    "    charge=0\n",
    "    for i in range(len(ages)):\n",
    "        if dict_of_data[f\"Person {i}\"][\"Smoker\"]==\"yes\" and dict_of_data[f\"Person {i}\"][\"Age\"]==18 and dict_of_data[f\"Person {i}\"][\"BMI\"]<30 and dict_of_data[f\"Person {i}\"][\"Number of children\"]==0:\n",
    "            charge+=dict_of_data[f\"Person {i}\"][\"Insurance Cost\"]\n",
    "    return charge\n",
    "\n",
    "insurance_cost_of_smoker_with_restrictions = new_insurance_cost_non_s(dict_of_data)\n",
    "\n",
    "print(insurance_cost_of_non_smoker_with_restrictions)\n",
    "print(insurance_cost_of_smoker_with_restrictions)\n",
    "difference=insurance_cost_of_smoker_with_restrictions-insurance_cost_of_non_smoker_with_restrictions \n",
    "print(difference)"
   ]
  },
  {
   "cell_type": "markdown",
   "id": "minute-funds",
   "metadata": {},
   "source": [
    "### Explanation"
   ]
  },
  {
   "cell_type": "markdown",
   "id": "jewish-yorkshire",
   "metadata": {},
   "source": [
    "This data proved to be more conclusive. With the given stipulations, we were able to compare the insurance cost of the two individuals and found about a 12000 dollar difference in insurance cost between smokers and non smokers. While this data proves to be inconclusive without further results, it's a baseline for now."
   ]
  },
  {
   "cell_type": "markdown",
   "id": "polyphonic-photograph",
   "metadata": {},
   "source": [
    "## Final Analysis"
   ]
  },
  {
   "cell_type": "markdown",
   "id": "binary-canal",
   "metadata": {},
   "source": [
    "The initial research question was to find out how the insurance costs of smokers compared to the insurance costs of non smokers. I quickly found out after writing a few lines of code that my results cannot be reliable as we cannot have all the other variables constant. We were trying to measure the difference in insurance cost and we got the most reliable answer by adding many restrictions to our dataset. There are some clear flaws with this as we restricted the age to 18. How would this change for larger ages? The data showed that there was a 12000 dollar difference in insurance costs between smokers and non smokers following the givenr estrictions. This somewhat supported my hypothesis that smokers would have a larger insurance cost as opposed to non smokers. There are still many probing questions to conduct but instead I stumbled upon some pretty alarming information. I found out that 39 people in the dataset are underaged smokers. This calls for action from the relevant authorities as even having 1 underaged smoker is bad. However this isn't an ideal world but we have to try our best."
   ]
  },
  {
   "cell_type": "markdown",
   "id": "advisory-partition",
   "metadata": {},
   "source": [
    "## Thoughts"
   ]
  },
  {
   "cell_type": "markdown",
   "id": "certified-compilation",
   "metadata": {},
   "source": [
    "Overall I had lots of fun analysing this dataset. There was a lot of information and I usd a bit of help online. I was able to somewhat answer my questions but I know that it isn't very reliable. I would definitely analyse this again and look at a different aspect such as how the insurance cost for people with high BMIs differ to those with lower BMIs. I also had a lot of fun exploring Jupyter Notebook and I will definitely used this in further portfolio projects."
   ]
  },
  {
   "cell_type": "markdown",
   "id": "fiscal-peace",
   "metadata": {},
   "source": [
    "### Appendix (Data Collected)"
   ]
  },
  {
   "cell_type": "markdown",
   "id": "public-ambassador",
   "metadata": {},
   "source": [
    "Sample Size : 1338\n",
    "\n",
    "Number of Smokers : 274\n",
    "\n",
    "Percentage of smokers (Based on the entire dataset) : 20.47832585949178\n",
    "\n",
    "Average age of a smoker : 38.51459854014598\n",
    "\n",
    "Number of underaged smokers (Age<21) : 39\n",
    "\n",
    "Percentage of underaged smokers (Based on number of smokers) : 14.233576642335766\n",
    "\n",
    "Percentage of underaged smokers (Based on the entire dataset) : 2.914798206278027\n",
    "\n",
    "Average insurance cost of non smokers : 8434.268297856199\n",
    "\n",
    "Average insurance cost of smokers : 32050.23183153285\n",
    "\n",
    "Insurance cost of non smoker with given restrictions (see above) : 31905.678019\n",
    "\n",
    "Insurance cost of smoker with given restrictions (see above) : 43549.512"
   ]
  },
  {
   "cell_type": "markdown",
   "id": "breeding-bahrain",
   "metadata": {},
   "source": [
    "## Resources Used"
   ]
  },
  {
   "cell_type": "markdown",
   "id": "southwest-french",
   "metadata": {},
   "source": [
    "1. https://www.kaggle.com/mirichoi0218/insurance\n",
    "2. https://stackoverflow.com/questions/28283647/convert-csv-column-to-list\n",
    "3. https://www.codecademy.com/paths/data-science/tracks/dscp-python-portfolio-project/modules/dscp-us-medical-insurance-costs/kanban_projects/us-medical-insurance-costs-portfolio-project"
   ]
  }
 ],
 "metadata": {
  "kernelspec": {
   "display_name": "Python 3",
   "language": "python",
   "name": "python3"
  },
  "language_info": {
   "codemirror_mode": {
    "name": "ipython",
    "version": 3
   },
   "file_extension": ".py",
   "mimetype": "text/x-python",
   "name": "python",
   "nbconvert_exporter": "python",
   "pygments_lexer": "ipython3",
   "version": "3.9.0"
  }
 },
 "nbformat": 4,
 "nbformat_minor": 5
}
